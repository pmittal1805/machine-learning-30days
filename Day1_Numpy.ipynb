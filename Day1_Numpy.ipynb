{
 "cells": [
  {
   "cell_type": "markdown",
   "id": "06eed25c",
   "metadata": {},
   "source": [
    "## Learn About Numpy:-"
   ]
  },
  {
   "cell_type": "code",
   "execution_count": 3,
   "id": "0b3a71c5",
   "metadata": {},
   "outputs": [],
   "source": [
    "import numpy as np"
   ]
  },
  {
   "cell_type": "code",
   "execution_count": 4,
   "id": "437aef6f",
   "metadata": {},
   "outputs": [],
   "source": [
    "import pandas as pd\n"
   ]
  },
  {
   "cell_type": "markdown",
   "id": "bfce47d8",
   "metadata": {},
   "source": [
    "### Creating array form list:-"
   ]
  },
  {
   "cell_type": "code",
   "execution_count": 19,
   "id": "86e9c562",
   "metadata": {},
   "outputs": [
    {
     "name": "stdout",
     "output_type": "stream",
     "text": [
      "1D array:- [1 2 3]\n",
      "2d array:- [[1 2 3]\n",
      " [4 5 6]]\n"
     ]
    }
   ],
   "source": [
    "arr_1d = np.array([1,2,3])\n",
    "print(\"1D array:-\",arr_1d)\n",
    "\n",
    "arr_2d = np.array([[1,2,3],[4,5,6]])\n",
    "print(\"2d array:-\",arr_2d)"
   ]
  },
  {
   "cell_type": "markdown",
   "id": "f80c0853",
   "metadata": {},
   "source": [
    "### Different Array creation:-"
   ]
  },
  {
   "cell_type": "code",
   "execution_count": 18,
   "id": "1c9bc301",
   "metadata": {},
   "outputs": [
    {
     "name": "stdout",
     "output_type": "stream",
     "text": [
      "Zero Array:-\n",
      " [[0. 0. 0. 0.]\n",
      " [0. 0. 0. 0.]\n",
      " [0. 0. 0. 0.]]\n",
      "Ones:- [[1. 1. 1. 1.]\n",
      " [1. 1. 1. 1.]]\n",
      "Fulls:- [[5 5 5]\n",
      " [5 5 5]]\n",
      "random Array:-\n",
      " [[0.16113684 0.13808859 0.35110833]\n",
      " [0.09592409 0.71003246 0.99857601]]\n",
      "Sequence array:-\n",
      " [0 2 4 6 8]\n"
     ]
    }
   ],
   "source": [
    "zeros = np.zeros((3,4))\n",
    "print(\"Zero Array:-\\n\",zeros)\n",
    "\n",
    "ones = np.ones((2,4))\n",
    "print(\"Ones:-\", ones)\n",
    "\n",
    "full = np.full((2,3),5)\n",
    "print(\"Fulls:-\",full)\n",
    "\n",
    "random = np.random.random((2,3))\n",
    "print(\"random Array:-\\n\",random)\n",
    "\n",
    "sequence = np.arange(0,10,2) # range() type\n",
    "print(\"Sequence array:-\\n\",sequence)"
   ]
  },
  {
   "cell_type": "markdown",
   "id": "d1ddc50c",
   "metadata": {},
   "source": [
    "### Vector,Marix,Scaler(constant) and Tensor:-"
   ]
  },
  {
   "cell_type": "code",
   "execution_count": 17,
   "id": "f65bd245",
   "metadata": {},
   "outputs": [
    {
     "name": "stdout",
     "output_type": "stream",
     "text": [
      "vector:- \n",
      " [1 2 3]\n",
      "Matrix:- \n",
      " [[1 2 3]\n",
      " [4 5 6]]\n",
      "Tensor:-\n",
      " [[[1 2]\n",
      "  [3 4]]\n",
      "\n",
      " [[5 6]\n",
      "  [7 8]]]\n"
     ]
    }
   ],
   "source": [
    "vector = np.array([1,2,3])\n",
    "print(\"vector:- \\n\",vector)  # 1d Array\n",
    "\n",
    "matrix = np.array([[1,2,3],\n",
    "                   [4,5,6]])\n",
    "print(\"Matrix:- \\n\",matrix)  # 2d Array\n",
    "\n",
    "tensor = np.array([[[1,2],[3,4]],\n",
    "                   [[5,6],[7,8]]])\n",
    "print(\"Tensor:-\\n\",tensor)   # Multidimention Array"
   ]
  },
  {
   "cell_type": "markdown",
   "id": "962153a5",
   "metadata": {},
   "source": [
    "### Array Properties :-"
   ]
  },
  {
   "cell_type": "markdown",
   "id": "f05c6b70",
   "metadata": {},
   "source": []
  },
  {
   "cell_type": "code",
   "execution_count": 22,
   "id": "b5a4a148",
   "metadata": {},
   "outputs": [
    {
     "name": "stdout",
     "output_type": "stream",
     "text": [
      "Shape:- (3, 3)\n",
      "Dimension :- 2\n",
      "Size :- 9\n",
      "DType :- int64\n"
     ]
    }
   ],
   "source": [
    "arr = np.array([[1,2,3],\n",
    "                [5,6,7],\n",
    "                [7,8,9]])\n",
    "print(\"Shape:-\",arr.shape)\n",
    "print(\"Dimension :-\",arr.ndim)\n",
    "print(\"Size :-\",arr.size)\n",
    "print(\"DType :-\",arr.dtype)\n"
   ]
  },
  {
   "cell_type": "markdown",
   "id": "e573dc6c",
   "metadata": {},
   "source": [
    "### Array Reshaping :-"
   ]
  },
  {
   "cell_type": "code",
   "execution_count": null,
   "id": "df80f1ec",
   "metadata": {},
   "outputs": [
    {
     "name": "stdout",
     "output_type": "stream",
     "text": [
      "Original Array :- [ 0  1  2  3  4  5  6  7  8  9 10 11]\n",
      "Reshaped Array :-\n",
      " [[ 0  1  2]\n",
      " [ 3  4  5]\n",
      " [ 6  7  8]\n",
      " [ 9 10 11]]\n",
      "Flattened Array :- [ 0  1  2  3  4  5  6  7  8  9 10 11]\n",
      "Raveled Array :-  [ 0  1  2  3  4  5  6  7  8  9 10 11]\n",
      "Trasnposed Array :-\n",
      " [[ 0  3  6  9]\n",
      " [ 1  4  7 10]\n",
      " [ 2  5  8 11]]\n"
     ]
    }
   ],
   "source": [
    "arr = np.arange(12)\n",
    "print(\"Original Array :-\",arr)\n",
    "\n",
    "reshaped = arr.reshape((4,3))\n",
    "print(\"Reshaped Array :-\\n\",reshaped)\n",
    "\n",
    "flattend = reshaped.flatten() # return New Copy\n",
    "print(\"Flattened Array :-\",flattend)\n",
    "\n",
    "raveled = reshaped.ravel()  # Returns View, instead of copy\n",
    "print(\"Raveled Array :- \",raveled)\n",
    " \n",
    "transpose = reshaped.T # convert row to column \n",
    "print(\"Trasnposed Array :-\\n\",transpose)"
   ]
  },
  {
   "cell_type": "code",
   "execution_count": null,
   "id": "19239977",
   "metadata": {},
   "outputs": [],
   "source": []
  }
 ],
 "metadata": {
  "kernelspec": {
   "display_name": "ml30",
   "language": "python",
   "name": "python3"
  },
  "language_info": {
   "codemirror_mode": {
    "name": "ipython",
    "version": 3
   },
   "file_extension": ".py",
   "mimetype": "text/x-python",
   "name": "python",
   "nbconvert_exporter": "python",
   "pygments_lexer": "ipython3",
   "version": "3.10.18"
  }
 },
 "nbformat": 4,
 "nbformat_minor": 5
}
