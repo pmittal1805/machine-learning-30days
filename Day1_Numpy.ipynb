{
 "cells": [
  {
   "cell_type": "markdown",
   "id": "06eed25c",
   "metadata": {},
   "source": [
    "## Numpy (Phase 1):-"
   ]
  },
  {
   "cell_type": "code",
   "execution_count": 3,
   "id": "0b3a71c5",
   "metadata": {},
   "outputs": [],
   "source": [
    "import numpy as np"
   ]
  },
  {
   "cell_type": "code",
   "execution_count": 4,
   "id": "437aef6f",
   "metadata": {},
   "outputs": [],
   "source": [
    "import pandas as pd\n"
   ]
  },
  {
   "cell_type": "markdown",
   "id": "bfce47d8",
   "metadata": {},
   "source": [
    "### Creating array form list:-"
   ]
  },
  {
   "cell_type": "code",
   "execution_count": 19,
   "id": "86e9c562",
   "metadata": {},
   "outputs": [
    {
     "name": "stdout",
     "output_type": "stream",
     "text": [
      "1D array:- [1 2 3]\n",
      "2d array:- [[1 2 3]\n",
      " [4 5 6]]\n"
     ]
    }
   ],
   "source": [
    "arr_1d = np.array([1,2,3])\n",
    "print(\"1D array:-\",arr_1d)\n",
    "\n",
    "arr_2d = np.array([[1,2,3],[4,5,6]])\n",
    "print(\"2d array:-\",arr_2d)"
   ]
  },
  {
   "cell_type": "markdown",
   "id": "f80c0853",
   "metadata": {},
   "source": [
    "### Different Array creation:-"
   ]
  },
  {
   "cell_type": "code",
   "execution_count": 18,
   "id": "1c9bc301",
   "metadata": {},
   "outputs": [
    {
     "name": "stdout",
     "output_type": "stream",
     "text": [
      "Zero Array:-\n",
      " [[0. 0. 0. 0.]\n",
      " [0. 0. 0. 0.]\n",
      " [0. 0. 0. 0.]]\n",
      "Ones:- [[1. 1. 1. 1.]\n",
      " [1. 1. 1. 1.]]\n",
      "Fulls:- [[5 5 5]\n",
      " [5 5 5]]\n",
      "random Array:-\n",
      " [[0.16113684 0.13808859 0.35110833]\n",
      " [0.09592409 0.71003246 0.99857601]]\n",
      "Sequence array:-\n",
      " [0 2 4 6 8]\n"
     ]
    }
   ],
   "source": [
    "zeros = np.zeros((3,4))\n",
    "print(\"Zero Array:-\\n\",zeros)\n",
    "\n",
    "ones = np.ones((2,4))\n",
    "print(\"Ones:-\", ones)\n",
    "\n",
    "full = np.full((2,3),5)\n",
    "print(\"Fulls:-\",full)\n",
    "\n",
    "random = np.random.random((2,3))\n",
    "print(\"random Array:-\\n\",random)\n",
    "\n",
    "sequence = np.arange(0,10,2) # range() type\n",
    "print(\"Sequence array:-\\n\",sequence)"
   ]
  },
  {
   "cell_type": "markdown",
   "id": "d1ddc50c",
   "metadata": {},
   "source": [
    "### Vector,Matrix,Scaler(constant) and Tensor:-"
   ]
  },
  {
   "cell_type": "code",
   "execution_count": 17,
   "id": "f65bd245",
   "metadata": {},
   "outputs": [
    {
     "name": "stdout",
     "output_type": "stream",
     "text": [
      "vector:- \n",
      " [1 2 3]\n",
      "Matrix:- \n",
      " [[1 2 3]\n",
      " [4 5 6]]\n",
      "Tensor:-\n",
      " [[[1 2]\n",
      "  [3 4]]\n",
      "\n",
      " [[5 6]\n",
      "  [7 8]]]\n"
     ]
    }
   ],
   "source": [
    "vector = np.array([1,2,3])\n",
    "print(\"vector:- \\n\",vector)  # 1d Array\n",
    "\n",
    "matrix = np.array([[1,2,3],\n",
    "                   [4,5,6]])\n",
    "print(\"Matrix:- \\n\",matrix)  # 2d Array\n",
    "\n",
    "tensor = np.array([[[1,2],[3,4]],\n",
    "                   [[5,6],[7,8]]])\n",
    "print(\"Tensor:-\\n\",tensor)   # Multidimention Array"
   ]
  },
  {
   "cell_type": "markdown",
   "id": "962153a5",
   "metadata": {},
   "source": [
    "### Array Properties :-"
   ]
  },
  {
   "cell_type": "markdown",
   "id": "f05c6b70",
   "metadata": {},
   "source": []
  },
  {
   "cell_type": "code",
   "execution_count": 22,
   "id": "b5a4a148",
   "metadata": {},
   "outputs": [
    {
     "name": "stdout",
     "output_type": "stream",
     "text": [
      "Shape:- (3, 3)\n",
      "Dimension :- 2\n",
      "Size :- 9\n",
      "DType :- int64\n"
     ]
    }
   ],
   "source": [
    "arr = np.array([[1,2,3],\n",
    "                [5,6,7],\n",
    "                [7,8,9]])\n",
    "print(\"Shape:-\",arr.shape)\n",
    "print(\"Dimension :-\",arr.ndim)\n",
    "print(\"Size :-\",arr.size)\n",
    "print(\"DType :-\",arr.dtype)\n"
   ]
  },
  {
   "cell_type": "markdown",
   "id": "e573dc6c",
   "metadata": {},
   "source": [
    "### Array Reshaping :-"
   ]
  },
  {
   "cell_type": "code",
   "execution_count": null,
   "id": "df80f1ec",
   "metadata": {},
   "outputs": [
    {
     "name": "stdout",
     "output_type": "stream",
     "text": [
      "Original Array :- [ 0  1  2  3  4  5  6  7  8  9 10 11]\n",
      "Reshaped Array :-\n",
      " [[ 0  1  2]\n",
      " [ 3  4  5]\n",
      " [ 6  7  8]\n",
      " [ 9 10 11]]\n",
      "Flattened Array :- [ 0  1  2  3  4  5  6  7  8  9 10 11]\n",
      "Raveled Array :-  [ 0  1  2  3  4  5  6  7  8  9 10 11]\n",
      "Trasnposed Array :-\n",
      " [[ 0  3  6  9]\n",
      " [ 1  4  7 10]\n",
      " [ 2  5  8 11]]\n"
     ]
    }
   ],
   "source": [
    "arr = np.arange(12)\n",
    "print(\"Original Array :-\",arr)\n",
    "\n",
    "reshaped = arr.reshape((4,3))\n",
    "print(\"Reshaped Array :-\\n\",reshaped)\n",
    "\n",
    "flattend = reshaped.flatten() # return New Copy\n",
    "print(\"Flattened Array :-\",flattend)\n",
    "\n",
    "raveled = reshaped.ravel()  # Returns View, instead of copy\n",
    "print(\"Raveled Array :- \",raveled)\n",
    " \n",
    "transpose = reshaped.T # convert row to column \n",
    "print(\"Trasnposed Array :-\\n\",transpose)"
   ]
  },
  {
   "cell_type": "markdown",
   "id": "0026d026",
   "metadata": {},
   "source": [
    "## Numpy (Phase 2):-"
   ]
  },
  {
   "cell_type": "code",
   "execution_count": 2,
   "id": "a6285a97",
   "metadata": {},
   "outputs": [],
   "source": [
    "import numpy as np"
   ]
  },
  {
   "cell_type": "markdown",
   "id": "13eb5085",
   "metadata": {},
   "source": [
    "### Array Slicing:-"
   ]
  },
  {
   "cell_type": "code",
   "execution_count": 7,
   "id": "41522723",
   "metadata": {},
   "outputs": [
    {
     "name": "stdout",
     "output_type": "stream",
     "text": [
      "Basic Slicing:- [2 3 4 5]\n",
      "With Step:- [1 3 5]\n",
      "Negative Slicing:- [7 6 5 4 3 2 1]\n"
     ]
    }
   ],
   "source": [
    "arr = np.array([1,2,3,4,5,6,7])\n",
    "print(\"Basic Slicing:-\",arr[1:5])\n",
    "print(\"With Step:-\",arr[0:6:2])\n",
    "print(\"Negative Slicing:-\",arr[::-1])"
   ]
  },
  {
   "cell_type": "code",
   "execution_count": 16,
   "id": "890c0bf5",
   "metadata": {},
   "outputs": [
    {
     "name": "stdout",
     "output_type": "stream",
     "text": [
      "Specific Element:- 6\n",
      "Specific Element:- 3\n",
      "Entire Row:- [1 2 3]\n",
      "Entire Column:- [3 6 9]\n"
     ]
    }
   ],
   "source": [
    "arr_2d = np.array([[1,2,3],\n",
    "                   [4,5,6],\n",
    "                   [7,8,9]])\n",
    "print(\"Specific Element:-\",arr_2d[1][2]) \n",
    "print(\"Specific Element:-\",arr_2d[0,2]) \n",
    "print(\"Entire Row:-\",arr_2d[0])\n",
    "print(\"Entire Column:-\",arr_2d[:,2])"
   ]
  },
  {
   "cell_type": "markdown",
   "id": "08f05cbf",
   "metadata": {},
   "source": [
    "### Sorting:-"
   ]
  },
  {
   "cell_type": "code",
   "execution_count": 25,
   "id": "7a4a875f",
   "metadata": {},
   "outputs": [
    {
     "name": "stdout",
     "output_type": "stream",
     "text": [
      "Sorted Array :- [0 1 2 3 4 6 9]\n",
      "Array:-\n",
      " [[2 4 1]\n",
      " [0 2 1]\n",
      " [3 1 5]]\n",
      "Sorted 2D Array by Column :-\n",
      " [[0 1 1]\n",
      " [2 2 1]\n",
      " [3 4 5]]\n",
      "Sorted 2D Array by Row :-\n",
      " [[1 2 4]\n",
      " [0 1 2]\n",
      " [1 3 5]]\n"
     ]
    }
   ],
   "source": [
    "unsorted_arr = np.array([4,2,6,1,3,9,0])\n",
    "print(\"Sorted Array :-\",np.sort(unsorted_arr))\n",
    "\n",
    "arr_2d_unsorted = np.array([[2,4,1],\n",
    "                            [0,2,1],\n",
    "                            [3,1,5]])\n",
    "print(\"Array:-\\n\",arr_2d_unsorted)\n",
    "print(\"Sorted 2D Array by Column :-\\n\",np.sort(arr_2d_unsorted, axis = 0)) # Sort Columnwise\n",
    "print(\"Sorted 2D Array by Row :-\\n\",np.sort(arr_2d_unsorted, axis = 1)) # Sort rowwise"
   ]
  },
  {
   "cell_type": "markdown",
   "id": "0a8841c8",
   "metadata": {},
   "source": [
    "### Filtering :-"
   ]
  },
  {
   "cell_type": "code",
   "execution_count": null,
   "id": "f5d3506b",
   "metadata": {},
   "outputs": [
    {
     "name": "stdout",
     "output_type": "stream",
     "text": [
      "Even Numbers:- [2 4 6 8 0]\n"
     ]
    }
   ],
   "source": [
    "arr = np.array([1,2,3,4,5,6,7,8,9,0])\n",
    "print(\"Even Numbers:-\",arr[arr % 2 == 0]) # Expression in Array"
   ]
  },
  {
   "cell_type": "markdown",
   "id": "95a13f10",
   "metadata": {},
   "source": [
    "### Filter with Mask:-"
   ]
  },
  {
   "cell_type": "code",
   "execution_count": 30,
   "id": "00743dc3",
   "metadata": {},
   "outputs": [
    {
     "name": "stdout",
     "output_type": "stream",
     "text": [
      "Number Greater than 5:- [6 7 8 9]\n"
     ]
    }
   ],
   "source": [
    "mask = arr > 5 # Condition\n",
    "print(\"Number Greater than 5:-\",arr[mask])"
   ]
  },
  {
   "cell_type": "markdown",
   "id": "7797bd5e",
   "metadata": {},
   "source": [
    "### Fancy Indexing VS np.where():-"
   ]
  },
  {
   "cell_type": "code",
   "execution_count": null,
   "id": "d1eca0a9",
   "metadata": {},
   "outputs": [
    {
     "name": "stdout",
     "output_type": "stream",
     "text": [
      "(array([5, 6, 7, 8]),)\n",
      "Np where:-  [6 7 8 9]\n"
     ]
    }
   ],
   "source": [
    "where_condition = np.where(arr > 5) # Condition\n",
    "print(where_condition) # Contional array ( used index)\n",
    "print(\"Np where:- \", arr[where_condition])"
   ]
  },
  {
   "cell_type": "code",
   "execution_count": 44,
   "id": "65a4ab39",
   "metadata": {},
   "outputs": [
    {
     "name": "stdout",
     "output_type": "stream",
     "text": [
      "[ 0  0  0  0  0 60 70 80 90  0]\n"
     ]
    }
   ],
   "source": [
    "condition_array = np.where(arr > 5, arr*10, arr*0) \n",
    "# if (arr > 5): arr*=10 else: arr\n",
    "print(condition_array)"
   ]
  },
  {
   "cell_type": "markdown",
   "id": "a65b364f",
   "metadata": {},
   "source": [
    "### Adding and Removing Data :-"
   ]
  },
  {
   "cell_type": "code",
   "execution_count": null,
   "id": "e1acc89a",
   "metadata": {},
   "outputs": [
    {
     "name": "stdout",
     "output_type": "stream",
     "text": [
      "[1 2 3 4 5 6]\n"
     ]
    }
   ],
   "source": [
    "arr1 = np.array([1,2,3])\n",
    "arr2 = np.array([4,5,6])\n",
    "#combine = arr1 + arr2 # Addition\n",
    "combine = np.concatenate((arr1, arr2))\n",
    "print(combine)"
   ]
  },
  {
   "cell_type": "markdown",
   "id": "a5f2f87e",
   "metadata": {},
   "source": [
    "### Array Compatibility :-"
   ]
  },
  {
   "cell_type": "code",
   "execution_count": 7,
   "id": "5fca4a87",
   "metadata": {},
   "outputs": [
    {
     "name": "stdout",
     "output_type": "stream",
     "text": [
      "Compatibility shapes:- True\n"
     ]
    }
   ],
   "source": [
    "a = np.array([1,2,3])\n",
    "b = np.array([4,5,6])\n",
    "c = np.array([7,8,9])\n",
    "print(\"Compatibility shapes:-\", a.shape == b.shape)"
   ]
  },
  {
   "cell_type": "code",
   "execution_count": 19,
   "id": "96f2c16b",
   "metadata": {},
   "outputs": [
    {
     "name": "stdout",
     "output_type": "stream",
     "text": [
      "Original Array:-\n",
      " [[1 2]\n",
      " [3 4]]\n",
      "New Row added:-\n",
      " [[1 2]\n",
      " [3 4]\n",
      " [5 6]]\n",
      "New Col Added:-\n",
      " [[1 2 0]\n",
      " [3 4 0]]\n"
     ]
    }
   ],
   "source": [
    "original = np.array([[1,2],\n",
    "                     [3,4]])\n",
    "new_row = np.array([5,6])\n",
    "with_new_row = np.vstack((original, new_row))\n",
    "\n",
    "new_col = np.array(([0],[0]))\n",
    "with_new_col = np.hstack((original, new_col))\n",
    "\n",
    "print(\"Original Array:-\\n\",original)\n",
    "print(\"New Row added:-\\n\",with_new_row)\n",
    "print(\"New Col Added:-\\n\",with_new_col)"
   ]
  },
  {
   "cell_type": "markdown",
   "id": "b6983b8b",
   "metadata": {},
   "source": [
    "### Delete in array:-"
   ]
  },
  {
   "cell_type": "code",
   "execution_count": 22,
   "id": "529654b2",
   "metadata": {},
   "outputs": [
    {
     "name": "stdout",
     "output_type": "stream",
     "text": [
      "array:- [1 2 3]\n",
      "Array After Deletion:- [1 2]\n"
     ]
    }
   ],
   "source": [
    "arr = np.array([1,2,3])\n",
    "delete = np.delete(arr,2) # delete Index\n",
    "print(\"array:-\",arr)\n",
    "print(\"Array After Deletion:-\",delete)"
   ]
  },
  {
   "cell_type": "markdown",
   "id": "1b838bde",
   "metadata": {},
   "source": [
    "## Numpy (Phase 3):-"
   ]
  },
  {
   "cell_type": "code",
   "execution_count": 24,
   "id": "d12df416",
   "metadata": {},
   "outputs": [],
   "source": [
    "import numpy as np\n",
    "import matplotlib.pyplot as plt"
   ]
  },
  {
   "cell_type": "markdown",
   "id": "95e5ad46",
   "metadata": {},
   "source": [
    "### Operations On Real Data :-"
   ]
  },
  {
   "cell_type": "code",
   "execution_count": 40,
   "id": "fb37f7c4",
   "metadata": {},
   "outputs": [
    {
     "name": "stdout",
     "output_type": "stream",
     "text": [
      "______Zomato sales Analysis______\n",
      "\n",
      "Shape of Sales Data:- (5, 5)\n",
      "First 3 Restaurant Data:-\n",
      " [[     1 150000 180000 220000 250000]\n",
      " [     2 120000 140000 160000 190000]\n",
      " [     3 200000 230000 260000 300000]]\n"
     ]
    }
   ],
   "source": [
    "\n",
    "# Data structure: [restaurant_id, 2021, 2022, 2023, 2024]\n",
    "sales_data = np.array([\n",
    "    [1, 150000, 180000, 220000, 250000],  # Paradise Biryani\n",
    "    [2, 120000, 140000, 160000, 190000],  # Beijing Bites\n",
    "    [3, 200000, 230000, 260000, 300000],  # Pizza Hub\n",
    "    [4, 180000, 210000, 240000, 270000],  # Burger Point\n",
    "    [5, 160000, 185000, 205000, 230000]   # Chai Point\n",
    "])\n",
    "print(\"______Zomato sales Analysis______\")\n",
    "print(\"\\nShape of Sales Data:-\",sales_data.shape)\n",
    "print(\"First 3 Restaurant Data:-\\n\",sales_data[ : 3]) "
   ]
  },
  {
   "cell_type": "code",
   "execution_count": 54,
   "id": "7e572042",
   "metadata": {},
   "outputs": [
    {
     "name": "stdout",
     "output_type": "stream",
     "text": [
      "Yearly Sales:- [ 810000  945000 1085000 1240000]\n",
      "Minimum sales per restaurant :- [150000 120000 200000 180000 160000]\n",
      "Maximum sales per Year :- [200000 230000 260000 300000]\n",
      "Average sales per Restaurant :- [200000. 152500. 247500. 225000. 195000.]\n",
      "Cumulative Sale per Year :-\n",
      " [[150000 330000 550000 800000]\n",
      " [120000 260000 420000 610000]\n",
      " [200000 430000 690000 990000]\n",
      " [180000 390000 630000 900000]\n",
      " [160000 345000 550000 780000]]\n"
     ]
    }
   ],
   "source": [
    "# axis = 0 -> Column || axis = 1 -> row\n",
    "\n",
    "# Total Sales per Year :-\n",
    "yearly_total = np.sum(sales_data[:, 1:], axis=0) # column sum\n",
    "print(\"Yearly Sales:-\", yearly_total)\n",
    "\n",
    "# Minimum sales per restaurant :-\n",
    "min_sale = np.min(sales_data[0:,1:], axis = 1 )  # row minimum\n",
    "print(\"Minimum sales per restaurant :-\",min_sale)\n",
    "\n",
    "# Maximum sales per Year :-\n",
    "max_sale_year = np.max(sales_data[:,1:], axis = 0) # column maximum\n",
    "print(\"Maximum sales per Year :-\",max_sale_year)\n",
    "\n",
    "# Average sales per Restaurant :-\n",
    "avg_sale_rest = np.average(sales_data[:,1:], axis = 1)\n",
    "mean_sale_rest = np.mean(sales_data[:,1:], axis = 1) # same as Average\n",
    "print(\"Average sales per Restaurant :-\",avg_sale_rest)\n",
    "\n",
    "# Cumulative Sale :-\n",
    "cum_sale = np.cumsum(sales_data[:, 1:], axis = 1)\n",
    "print(\"Cumulative Sale per Year :-\\n\",cum_sale)\n"
   ]
  },
  {
   "cell_type": "markdown",
   "id": "4d371f86",
   "metadata": {},
   "source": [
    "### Visualize Data :- "
   ]
  },
  {
   "cell_type": "code",
   "execution_count": null,
   "id": "f669ba3c",
   "metadata": {},
   "outputs": [
    {
     "name": "stdout",
     "output_type": "stream",
     "text": [
      "[162000. 351000. 568000. 816000.]\n",
      "[457500. 352500. 577500. 525000. 458750.]\n"
     ]
    },
    {
     "data": {
      "image/png": "[encoded data removed]",
      "text/plain": [
       "<Figure size 640x480 with 1 Axes>"
      ]
     },
     "metadata": {},
     "output_type": "display_data"
    }
   ],
   "source": [
    "# Visualize This data :-\n",
    "\n",
    "print(np.mean(cum_sale[:, :], axis = 0)) # this per Year\n",
    "print(np.mean(cum_sale[:, :], axis = 1)) # this per Restaurant\n",
    "plt.Figure(figsize=(10, 6))\n",
    "plt.plot(np.mean(cum_sale[:, :], axis = 0))\n",
    "plt.title(\"Average cumulative sales across all years :-\")\n",
    "plt.xlabel(\"Years\")\n",
    "plt.ylabel(\"Sales\")\n",
    "plt.grid(True)\n",
    "plt.show()"
   ]
  },
  {
   "cell_type": "markdown",
   "id": "cc0abfa2",
   "metadata": {},
   "source": [
    "### Vectors :-"
   ]
  },
  {
   "cell_type": "code",
   "execution_count": 65,
   "id": "1c2d2322",
   "metadata": {},
   "outputs": [
    {
     "name": "stdout",
     "output_type": "stream",
     "text": [
      "Vector Addition :-  [ 7  9 11 13 15]\n",
      "Vector Multipplication :-  [ 6 14 24 36 50]\n",
      "Dot Product :-  130\n",
      "0.26554161733900966\n"
     ]
    }
   ],
   "source": [
    "vector1 = np.array([1,2,3,4,5])\n",
    "vector2 = np.array([6,7,8,9,10])\n",
    "# pinecode - Database \n",
    "print(\"Vector Addition :- \", vector1 + vector2)\n",
    "\n",
    "print(\"Vector Multipplication :- \", vector1 * vector2)\n",
    "\n",
    "print(\"Dot Product :- \", np.dot(vector1,vector2))\n",
    "\n",
    "angle = np.arccos(np.dot(vector1, vector2) / (np.linalg.norm(vector1) * np.linalg.norm(vector2)))\n",
    "print(angle)"
   ]
  },
  {
   "cell_type": "code",
   "execution_count": 75,
   "id": "2c55aaea",
   "metadata": {},
   "outputs": [
    {
     "name": "stdout",
     "output_type": "stream",
     "text": [
      "Vectorized Upper :- ['MAGGIE' 'CHINESE' 'PIZZA' 'BURGER' 'COFFEE']\n",
      "Vectorized Capital :- ['Maggie' 'Chinese' 'Pizza' 'Burger' 'Coffee']\n"
     ]
    }
   ],
   "source": [
    "# Vectorize method to changes in all element in Array :-\n",
    "# Used for Python function run in array element \n",
    "restaurant_name = np.array(['maggie','chinese','pizza','burger','coffee'])\n",
    "vectorized_upper = np.vectorize(str.upper) \n",
    "print(\"Vectorized Upper :-\",vectorized_upper(restaurant_name))\n",
    "capital_vect = np.vectorize(str.capitalize)\n",
    "print(\"Vectorized Capital :-\",capital_vect(restaurant_name))\n"
   ]
  },
  {
   "cell_type": "code",
   "execution_count": 80,
   "id": "5c782a14",
   "metadata": {},
   "outputs": [
    {
     "name": "stdout",
     "output_type": "stream",
     "text": [
      "Monthly_Avrage :- \n",
      " [[12500.         15000.         18333.33333333 20833.33333333]\n",
      " [10000.         11666.66666667 13333.33333333 15833.33333333]\n",
      " [16666.66666667 19166.66666667 21666.66666667 25000.        ]\n",
      " [15000.         17500.         20000.         22500.        ]\n",
      " [13333.33333333 15416.66666667 17083.33333333 19166.66666667]]\n"
     ]
    }
   ],
   "source": [
    "# monthly_avg data :-\n",
    "\n",
    "monthly_avg = sales_data[:, 1:] / 12  \n",
    "\n",
    "print(\"Monthly_Avrage :- \\n\",monthly_avg)"
   ]
  },
  {
   "cell_type": "markdown",
   "id": "9ff8807a",
   "metadata": {},
   "source": [
    "## Numpy (Phase 4):-"
   ]
  },
  {
   "cell_type": "code",
   "execution_count": null,
   "id": "e84a415b",
   "metadata": {},
   "outputs": [],
   "source": []
  }
 ],
 "metadata": {
  "kernelspec": {
   "display_name": "ml30",
   "language": "python",
   "name": "python3"
  },
  "language_info": {
   "codemirror_mode": {
    "name": "ipython",
    "version": 3
   },
   "file_extension": ".py",
   "mimetype": "text/x-python",
   "name": "python",
   "nbconvert_exporter": "python",
   "pygments_lexer": "ipython3",
   "version": "3.10.18"
  }
 },
 "nbformat": 4,
 "nbformat_minor": 5
}
