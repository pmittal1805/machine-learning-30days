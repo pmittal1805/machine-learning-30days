{
 "cells": [
  {
   "cell_type": "code",
   "execution_count": 3,
   "id": "c0024add",
   "metadata": {},
   "outputs": [
    {
     "name": "stdout",
     "output_type": "stream",
     "text": [
      "my name is MIttal\n"
     ]
    }
   ],
   "source": [
    "print(\"my name is MIttal\")"
   ]
  },
  {
   "cell_type": "code",
   "execution_count": null,
   "id": "0b02dddf",
   "metadata": {},
   "outputs": [],
   "source": []
  }
 ],
 "metadata": {
  "kernelspec": {
   "display_name": "ml30",
   "language": "python",
   "name": "python3"
  },
  "language_info": {
   "codemirror_mode": {
    "name": "ipython",
    "version": 3
   },
   "file_extension": ".py",
   "mimetype": "text/x-python",
   "name": "python",
   "nbconvert_exporter": "python",
   "pygments_lexer": "ipython3",
   "version": "3.10.18"
  }
 },
 "nbformat": 4,
 "nbformat_minor": 5
}
